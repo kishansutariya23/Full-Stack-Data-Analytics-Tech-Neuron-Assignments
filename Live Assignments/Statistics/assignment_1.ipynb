{
 "cells": [
  {
   "cell_type": "code",
   "execution_count": null,
   "metadata": {},
   "outputs": [],
   "source": [
    "Que 1) Plot a histogram,\n",
    "10, 13, 18, 22, 27, 32, 38, 40, 45, 51, 56, 57, 88, 90, 92, 94, 99\n",
    "Que 2) In a quant test of the CAT Exam, the population standard deviation is known to be 100. A sample of 25 tests taken has a mean of 520. Construct an 80% CI about the mean.\n",
    "Que 3) A car believes that the percentage of citizens in city ABC that owns a vehicle is 60% or less. A sales manager disagrees with this. He conducted a hypothesis testing surveying 250 residents & found that 170 residents responded yes to owning a vehicle.\n",
    "State the null & alternate hypothesis.\n",
    "At a 10% significance level, is there enough evidence to support the idea that vehicle owner in ABC city is 60% or less.\n",
    "Que 4) What is the value of the 99 percentile?\n",
    "2,2,3,4,5,5,5,6,7,8,8,8,8,8,9,9,10,11,11,12\n",
    "Que 5) In left & right-skewed data, what is the relationship between mean, median & mode?\n",
    "Draw the graph to represent the same.\n"
   ]
  }
 ],
 "metadata": {
  "language_info": {
   "name": "python"
  },
  "orig_nbformat": 4
 },
 "nbformat": 4,
 "nbformat_minor": 2
}
